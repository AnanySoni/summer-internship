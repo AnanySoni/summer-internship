{
  "cells": [
    {
      "cell_type": "code",
      "execution_count": null,
      "metadata": {
        "colab": {
          "base_uri": "https://localhost:8080/"
        },
        "id": "O4VjJhrCISjB",
        "outputId": "71edb05d-3270-4b6e-9755-457ea0750fd1"
      },
      "outputs": [
        {
          "name": "stdout",
          "output_type": "stream",
          "text": [
            "Requirement already satisfied: pandas in c:\\users\\anany\\appdata\\local\\programs\\python\\python312\\lib\\site-packages (2.2.2)\n",
            "Requirement already satisfied: scikit-learn in c:\\users\\anany\\appdata\\local\\programs\\python\\python312\\lib\\site-packages (1.5.2)\n",
            "Requirement already satisfied: matplotlib in c:\\users\\anany\\appdata\\local\\programs\\python\\python312\\lib\\site-packages (3.9.2)\n",
            "Requirement already satisfied: seaborn in c:\\users\\anany\\appdata\\local\\programs\\python\\python312\\lib\\site-packages (0.13.2)\n",
            "Requirement already satisfied: numpy>=1.26.0 in c:\\users\\anany\\appdata\\local\\programs\\python\\python312\\lib\\site-packages (from pandas) (1.26.4)\n",
            "Requirement already satisfied: python-dateutil>=2.8.2 in c:\\users\\anany\\appdata\\roaming\\python\\python312\\site-packages (from pandas) (2.9.0.post0)\n",
            "Requirement already satisfied: pytz>=2020.1 in c:\\users\\anany\\appdata\\local\\programs\\python\\python312\\lib\\site-packages (from pandas) (2024.1)\n",
            "Requirement already satisfied: tzdata>=2022.7 in c:\\users\\anany\\appdata\\local\\programs\\python\\python312\\lib\\site-packages (from pandas) (2024.1)\n",
            "Requirement already satisfied: scipy>=1.6.0 in c:\\users\\anany\\appdata\\local\\programs\\python\\python312\\lib\\site-packages (from scikit-learn) (1.14.1)\n",
            "Requirement already satisfied: joblib>=1.2.0 in c:\\users\\anany\\appdata\\local\\programs\\python\\python312\\lib\\site-packages (from scikit-learn) (1.4.2)\n",
            "Requirement already satisfied: threadpoolctl>=3.1.0 in c:\\users\\anany\\appdata\\local\\programs\\python\\python312\\lib\\site-packages (from scikit-learn) (3.5.0)\n",
            "Requirement already satisfied: contourpy>=1.0.1 in c:\\users\\anany\\appdata\\local\\programs\\python\\python312\\lib\\site-packages (from matplotlib) (1.2.1)\n",
            "Requirement already satisfied: cycler>=0.10 in c:\\users\\anany\\appdata\\local\\programs\\python\\python312\\lib\\site-packages (from matplotlib) (0.12.1)\n",
            "Requirement already satisfied: fonttools>=4.22.0 in c:\\users\\anany\\appdata\\local\\programs\\python\\python312\\lib\\site-packages (from matplotlib) (4.53.1)\n",
            "Requirement already satisfied: kiwisolver>=1.3.1 in c:\\users\\anany\\appdata\\local\\programs\\python\\python312\\lib\\site-packages (from matplotlib) (1.4.5)\n",
            "Requirement already satisfied: packaging>=20.0 in c:\\users\\anany\\appdata\\roaming\\python\\python312\\site-packages (from matplotlib) (24.1)\n",
            "Requirement already satisfied: pillow>=8 in c:\\users\\anany\\appdata\\local\\programs\\python\\python312\\lib\\site-packages (from matplotlib) (10.4.0)\n",
            "Requirement already satisfied: pyparsing>=2.3.1 in c:\\users\\anany\\appdata\\local\\programs\\python\\python312\\lib\\site-packages (from matplotlib) (3.1.4)\n",
            "Requirement already satisfied: six>=1.5 in c:\\users\\anany\\appdata\\roaming\\python\\python312\\site-packages (from python-dateutil>=2.8.2->pandas) (1.16.0)\n"
          ]
        }
      ],
      "source": [
        "%pip install pandas scikit-learn matplotlib seaborn"
      ]
    },
    {
      "cell_type": "markdown",
      "metadata": {
        "id": "SDDjdmbnIHRN"
      },
      "source": [
        "# **Load and Inspect the Datasets:**"
      ]
    },
    {
      "cell_type": "code",
      "execution_count": 6,
      "metadata": {
        "colab": {
          "base_uri": "https://localhost:8080/"
        },
        "id": "fuTLEHiCLAUr",
        "outputId": "c386ec44-5bd8-496b-d4ed-e235e88e35bf"
      },
      "outputs": [
        {
          "name": "stdout",
          "output_type": "stream",
          "text": [
            "Training Data Info:\n",
            "<class 'pandas.core.frame.DataFrame'>\n",
            "RangeIndex: 125972 entries, 0 to 125971\n",
            "Data columns (total 42 columns):\n",
            " #   Column    Non-Null Count   Dtype  \n",
            "---  ------    --------------   -----  \n",
            " 0   0         125972 non-null  int64  \n",
            " 1   tcp       125972 non-null  object \n",
            " 2   ftp_data  125972 non-null  object \n",
            " 3   SF        125972 non-null  object \n",
            " 4   491       125972 non-null  int64  \n",
            " 5   0.1       125972 non-null  int64  \n",
            " 6   0.2       125972 non-null  int64  \n",
            " 7   0.3       125972 non-null  int64  \n",
            " 8   0.4       125972 non-null  int64  \n",
            " 9   0.5       125972 non-null  int64  \n",
            " 10  0.6       125972 non-null  int64  \n",
            " 11  0.7       125972 non-null  int64  \n",
            " 12  0.8       125972 non-null  int64  \n",
            " 13  0.9       125972 non-null  int64  \n",
            " 14  0.10      125972 non-null  int64  \n",
            " 15  0.11      125972 non-null  int64  \n",
            " 16  0.12      125972 non-null  int64  \n",
            " 17  0.13      125972 non-null  int64  \n",
            " 18  0.14      125972 non-null  int64  \n",
            " 19  0.15      125972 non-null  int64  \n",
            " 20  0.16      125972 non-null  int64  \n",
            " 21  0.18      125972 non-null  int64  \n",
            " 22  2         125972 non-null  int64  \n",
            " 23  2.1       125972 non-null  int64  \n",
            " 24  0.19      125972 non-null  float64\n",
            " 25  0.20      125972 non-null  float64\n",
            " 26  0.21      125972 non-null  float64\n",
            " 27  0.22      125972 non-null  float64\n",
            " 28  1         125972 non-null  float64\n",
            " 29  0.23      125972 non-null  float64\n",
            " 30  0.24      125972 non-null  float64\n",
            " 31  150       125972 non-null  int64  \n",
            " 32  25        125972 non-null  int64  \n",
            " 33  0.17      125972 non-null  float64\n",
            " 34  0.03      125972 non-null  float64\n",
            " 35  0.17.1    125972 non-null  float64\n",
            " 36  0.25      125972 non-null  float64\n",
            " 37  0.26      125972 non-null  float64\n",
            " 38  0.27      125972 non-null  float64\n",
            " 39  0.05      125972 non-null  float64\n",
            " 40  0.28      125972 non-null  float64\n",
            " 41  normal    125972 non-null  object \n",
            "dtypes: float64(15), int64(23), object(4)\n",
            "memory usage: 40.4+ MB\n",
            "None\n",
            "\n",
            "Testing Data Info:\n",
            "<class 'pandas.core.frame.DataFrame'>\n",
            "RangeIndex: 22543 entries, 0 to 22542\n",
            "Data columns (total 42 columns):\n",
            " #   Column   Non-Null Count  Dtype  \n",
            "---  ------   --------------  -----  \n",
            " 0   0        22543 non-null  int64  \n",
            " 1   tcp      22543 non-null  object \n",
            " 2   private  22543 non-null  object \n",
            " 3   REJ      22543 non-null  object \n",
            " 4   0.1      22543 non-null  int64  \n",
            " 5   0.2      22543 non-null  int64  \n",
            " 6   0.3      22543 non-null  int64  \n",
            " 7   0.4      22543 non-null  int64  \n",
            " 8   0.5      22543 non-null  int64  \n",
            " 9   0.6      22543 non-null  int64  \n",
            " 10  0.7      22543 non-null  int64  \n",
            " 11  0.8      22543 non-null  int64  \n",
            " 12  0.9      22543 non-null  int64  \n",
            " 13  0.10     22543 non-null  int64  \n",
            " 14  0.11     22543 non-null  int64  \n",
            " 15  0.12     22543 non-null  int64  \n",
            " 16  0.13     22543 non-null  int64  \n",
            " 17  0.14     22543 non-null  int64  \n",
            " 18  0.15     22543 non-null  int64  \n",
            " 19  0.16     22543 non-null  int64  \n",
            " 20  0.17     22543 non-null  int64  \n",
            " 21  0.18     22543 non-null  int64  \n",
            " 22  229      22543 non-null  int64  \n",
            " 23  10       22543 non-null  int64  \n",
            " 24  0.19     22543 non-null  float64\n",
            " 25  0.20     22543 non-null  float64\n",
            " 26  1        22543 non-null  float64\n",
            " 27  1.1      22543 non-null  float64\n",
            " 28  0.04     22543 non-null  float64\n",
            " 29  0.06     22543 non-null  float64\n",
            " 30  0.21     22543 non-null  float64\n",
            " 31  255      22543 non-null  int64  \n",
            " 32  10.1     22543 non-null  int64  \n",
            " 33  0.04.1   22543 non-null  float64\n",
            " 34  0.06.1   22543 non-null  float64\n",
            " 35  0.22     22543 non-null  float64\n",
            " 36  0.23     22543 non-null  float64\n",
            " 37  0.24     22543 non-null  float64\n",
            " 38  0.25     22543 non-null  float64\n",
            " 39  1.2      22543 non-null  float64\n",
            " 40  1.3      22543 non-null  float64\n",
            " 41  neptune  22543 non-null  object \n",
            "dtypes: float64(15), int64(23), object(4)\n",
            "memory usage: 7.2+ MB\n",
            "None\n",
            "\n",
            "First few rows of the training dataset:\n",
            "   0  tcp ftp_data   SF  491   0.1  0.2  0.3  0.4  0.5  ...   25  0.17  0.03  \\\n",
            "0  0  udp    other   SF  146     0    0    0    0    0  ...    1  0.00  0.60   \n",
            "1  0  tcp  private   S0    0     0    0    0    0    0  ...   26  0.10  0.05   \n",
            "2  0  tcp     http   SF  232  8153    0    0    0    0  ...  255  1.00  0.00   \n",
            "3  0  tcp     http   SF  199   420    0    0    0    0  ...  255  1.00  0.00   \n",
            "4  0  tcp  private  REJ    0     0    0    0    0    0  ...   19  0.07  0.07   \n",
            "\n",
            "   0.17.1  0.25  0.26  0.27  0.05  0.28   normal  \n",
            "0    0.88  0.00  0.00  0.00   0.0  0.00   normal  \n",
            "1    0.00  0.00  1.00  1.00   0.0  0.00  neptune  \n",
            "2    0.03  0.04  0.03  0.01   0.0  0.01   normal  \n",
            "3    0.00  0.00  0.00  0.00   0.0  0.00   normal  \n",
            "4    0.00  0.00  0.00  0.00   1.0  1.00  neptune  \n",
            "\n",
            "[5 rows x 42 columns]\n"
          ]
        }
      ],
      "source": [
        "import pandas as pd\n",
        "\n",
        "# Load the datasets\n",
        "train_df = pd.read_csv(r'C:\\Users\\anany\\OneDrive\\Documents\\intership cybersecurity\\NSL_KDD_Train.csv')\n",
        "test_df = pd.read_csv(r'C:\\Users\\anany\\OneDrive\\Documents\\intership cybersecurity\\NSL_KDD_Test.csv')\n",
        "\n",
        "# Display basic information about the datasets\n",
        "print(\"Training Data Info:\")\n",
        "print(train_df.info())\n",
        "print(\"\\nTesting Data Info:\")\n",
        "print(test_df.info())\n",
        "\n",
        "# Display the first few rows of the training dataset\n",
        "print(\"\\nFirst few rows of the training dataset:\")\n",
        "print(train_df.head())\n"
      ]
    },
    {
      "cell_type": "markdown",
      "metadata": {
        "id": "-SS7LVMoIMw8"
      },
      "source": [
        "# **Data Preprocessing:**"
      ]
    },
    {
      "cell_type": "code",
      "execution_count": 9,
      "metadata": {
        "colab": {
          "base_uri": "https://localhost:8080/"
        },
        "id": "oRUH8DWoLmOd",
        "outputId": "6216929e-bf9f-4883-c53b-dd787ec50b58"
      },
      "outputs": [
        {
          "name": "stdout",
          "output_type": "stream",
          "text": [
            "Index(['duration', 'protocol_type', 'service', 'flag', 'src_bytes',\n",
            "       'dst_bytes', 'land', 'wrong_fragment', 'urgent', 'hot',\n",
            "       'num_failed_logins', 'logged_in', 'num_compromised', 'root_shell',\n",
            "       'su_attempted', 'num_root', 'num_file_creations', 'num_shells',\n",
            "       'num_access_files', 'num_outbound_cmds', 'is_host_login',\n",
            "       'is_guest_login', 'count', 'srv_count', 'serror_rate',\n",
            "       'srv_serror_rate', 'rerror_rate', 'srv_rerror_rate', 'same_srv_rate',\n",
            "       'diff_srv_rate', 'srv_diff_host_rate', 'dst_host_count',\n",
            "       'dst_host_srv_count', 'dst_host_same_srv_rate',\n",
            "       'dst_host_diff_srv_rate', 'dst_host_same_src_port_rate',\n",
            "       'dst_host_srv_diff_host_rate', 'dst_host_serror_rate',\n",
            "       'dst_host_srv_serror_rate', 'dst_host_rerror_rate',\n",
            "       'dst_host_srv_rerror_rate', 'target'],\n",
            "      dtype='object')\n",
            "Processed Training Data:\n",
            "   duration  protocol_type   service      flag  src_bytes  dst_bytes  \\\n",
            "0  -0.11025       2.219302  0.781420  0.751116  -0.007737  -0.004919   \n",
            "1  -0.11025      -0.124707  1.087297 -0.736227  -0.007762  -0.004919   \n",
            "2  -0.11025      -0.124707 -0.442088  0.751116  -0.007723  -0.002891   \n",
            "3  -0.11025      -0.124707 -0.442088  0.751116  -0.007728  -0.004814   \n",
            "4  -0.11025      -0.124707  1.087297 -2.223571  -0.007762  -0.004919   \n",
            "\n",
            "       land  wrong_fragment    urgent       hot  ...  dst_host_srv_count  \\\n",
            "0 -0.014089       -0.089487 -0.007736 -0.095076  ...           -1.035693   \n",
            "1 -0.014089       -0.089487 -0.007736 -0.095076  ...           -0.809862   \n",
            "2 -0.014089       -0.089487 -0.007736 -0.095076  ...            1.258746   \n",
            "3 -0.014089       -0.089487 -0.007736 -0.095076  ...            1.258746   \n",
            "4 -0.014089       -0.089487 -0.007736 -0.095076  ...           -0.873095   \n",
            "\n",
            "   dst_host_same_srv_rate  dst_host_diff_srv_rate  \\\n",
            "0               -1.161035                2.736839   \n",
            "1               -0.938292               -0.174419   \n",
            "2                1.066393               -0.439079   \n",
            "3                1.066393               -0.439079   \n",
            "4               -1.005115               -0.068555   \n",
            "\n",
            "   dst_host_same_src_port_rate  dst_host_srv_diff_host_rate  \\\n",
            "0                     2.367729                    -0.289105   \n",
            "1                    -0.480194                    -0.289105   \n",
            "2                    -0.383106                     0.066249   \n",
            "3                    -0.480194                    -0.289105   \n",
            "4                    -0.480194                    -0.289105   \n",
            "\n",
            "   dst_host_serror_rate  dst_host_srv_serror_rate  dst_host_rerror_rate  \\\n",
            "0             -0.639535                 -0.624874             -0.387635   \n",
            "1              1.608750                  1.618946             -0.387635   \n",
            "2             -0.572087                 -0.602436             -0.387635   \n",
            "3             -0.639535                 -0.624874             -0.387635   \n",
            "4             -0.639535                 -0.624874              2.874397   \n",
            "\n",
            "   dst_host_srv_rerror_rate  target  \n",
            "0                 -0.376389      11  \n",
            "1                 -0.376389       9  \n",
            "2                 -0.345086      11  \n",
            "3                 -0.376389      11  \n",
            "4                  2.753901       9  \n",
            "\n",
            "[5 rows x 42 columns]\n"
          ]
        }
      ],
      "source": [
        "import numpy as np\n",
        "import pandas as pd\n",
        "from sklearn.preprocessing import LabelEncoder, StandardScaler\n",
        "\n",
        "# Load data (replace with your actual paths)\n",
        "train_df = pd.read_csv(r'C:\\Users\\anany\\OneDrive\\Documents\\intership cybersecurity\\NSL_KDD_Train.csv')\n",
        "test_df = pd.read_csv(r'C:\\Users\\anany\\OneDrive\\Documents\\intership cybersecurity\\NSL_KDD_Test.csv')\n",
        "\n",
        "# Add column names\n",
        "column_names = [\n",
        "    'duration', 'protocol_type', 'service', 'flag', 'src_bytes', 'dst_bytes',\n",
        "    'land', 'wrong_fragment', 'urgent', 'hot', 'num_failed_logins', 'logged_in',\n",
        "    'num_compromised', 'root_shell', 'su_attempted', 'num_root', 'num_file_creations',\n",
        "    'num_shells', 'num_access_files', 'num_outbound_cmds', 'is_host_login', 'is_guest_login',\n",
        "    'count', 'srv_count', 'serror_rate', 'srv_serror_rate', 'rerror_rate', 'srv_rerror_rate',\n",
        "    'same_srv_rate', 'diff_srv_rate', 'srv_diff_host_rate', 'dst_host_count',\n",
        "    'dst_host_srv_count', 'dst_host_same_srv_rate', 'dst_host_diff_srv_rate',\n",
        "    'dst_host_same_src_port_rate', 'dst_host_srv_diff_host_rate', 'dst_host_serror_rate',\n",
        "    'dst_host_srv_serror_rate', 'dst_host_rerror_rate', 'dst_host_srv_rerror_rate', 'target'\n",
        "]\n",
        "train_df.columns = column_names\n",
        "test_df.columns = column_names\n",
        "\n",
        "# Verify column names after loading\n",
        "print(train_df.columns)\n",
        "\n",
        "# Handle missing values (if any)\n",
        "train_df = train_df.dropna()\n",
        "test_df = test_df.dropna()\n",
        "\n",
        "# Encode categorical variables, INCLUDING 'target'\n",
        "categorical_columns = ['protocol_type', 'service', 'flag', 'target']\n",
        "label_encoders = {col: LabelEncoder().fit(train_df[col]) for col in categorical_columns}\n",
        "\n",
        "# Function to safely transform categorical variables\n",
        "def transform_with_unknown(label_encoder, series):\n",
        "    unique_values = set(series.unique())\n",
        "    known_values = set(label_encoder.classes_)\n",
        "    unknown_values = unique_values - known_values\n",
        "    if unknown_values:\n",
        "        # Add unknown values to the encoder's classes\n",
        "        label_encoder.classes_ = np.append(label_encoder.classes_, list(unknown_values))\n",
        "    return label_encoder.transform(series)\n",
        "\n",
        "for col, le in label_encoders.items():\n",
        "    train_df[col] = le.transform(train_df[col])\n",
        "    test_df[col] = transform_with_unknown(le, test_df[col])\n",
        "\n",
        "# Scale numerical features\n",
        "scaler = StandardScaler()\n",
        "numerical_columns = train_df.columns.difference(['target'])\n",
        "train_df[numerical_columns] = scaler.fit_transform(train_df[numerical_columns])\n",
        "test_df[numerical_columns] = scaler.transform(test_df[numerical_columns])\n",
        "\n",
        "# Display the first few rows of the processed training dataset\n",
        "print(\"Processed Training Data:\")\n",
        "print(train_df.head())"
      ]
    },
    {
      "cell_type": "markdown",
      "metadata": {
        "id": "Izz_-mygI0rJ"
      },
      "source": [
        "# **Feature and Target Separation:**"
      ]
    },
    {
      "cell_type": "code",
      "execution_count": 11,
      "metadata": {
        "id": "d5kWVejQLr-5"
      },
      "outputs": [],
      "source": [
        "from sklearn.model_selection import train_test_split\n",
        "\n",
        "# Use 'target' instead of 'attack_class'\n",
        "X_train = train_df.drop('target', axis=1)  \n",
        "y_train = train_df['target']\n",
        "X_test = test_df.drop('target', axis=1)\n",
        "y_test = test_df['target']\n",
        "\n",
        "# Split training data for training and validation\n",
        "X_train_split, X_val_split, y_train_split, y_val_split = train_test_split(\n",
        "    X_train, y_train, test_size=0.2, random_state=42\n",
        ")"
      ]
    },
    {
      "cell_type": "markdown",
      "metadata": {
        "id": "jY-NSdTvI5ea"
      },
      "source": [
        "# **Model Training and Evaluation:**"
      ]
    },
    {
      "cell_type": "code",
      "execution_count": 12,
      "metadata": {
        "colab": {
          "base_uri": "https://localhost:8080/"
        },
        "id": "8ZZTt8FaLvU-",
        "outputId": "db6ddcd4-276c-4d3d-9d6b-3d504c3627f7"
      },
      "outputs": [
        {
          "name": "stdout",
          "output_type": "stream",
          "text": [
            "Isolation Forest - Accuracy: 0.006231395118078984, Precision: 5.380882656693041e-05, Recall: 0.006231395118078984, F1 Score: 0.00010668630771062994\n"
          ]
        },
        {
          "name": "stderr",
          "output_type": "stream",
          "text": [
            "c:\\Users\\anany\\AppData\\Local\\Programs\\Python\\Python312\\Lib\\site-packages\\sklearn\\metrics\\_classification.py:1531: UndefinedMetricWarning: Precision is ill-defined and being set to 0.0 in labels with no predicted samples. Use `zero_division` parameter to control this behavior.\n",
            "  _warn_prf(average, modifier, f\"{metric.capitalize()} is\", len(result))\n"
          ]
        }
      ],
      "source": [
        "from sklearn.ensemble import IsolationForest\n",
        "from sklearn.metrics import accuracy_score, precision_score, recall_score, f1_score\n",
        "\n",
        "# Train Isolation Forest model\n",
        "iso_forest = IsolationForest(random_state=42)\n",
        "iso_forest.fit(X_train_split)\n",
        "\n",
        "# Predict on validation data\n",
        "iso_val_preds = iso_forest.predict(X_val_split)\n",
        "\n",
        "# Convert predictions to 0 and 1 (anomaly and normal)\n",
        "iso_val_preds = [1 if pred == -1 else 0 for pred in iso_val_preds]\n",
        "\n",
        "# Evaluate the model\n",
        "iso_accuracy = accuracy_score(y_val_split, iso_val_preds)\n",
        "iso_precision = precision_score(y_val_split, iso_val_preds, average='weighted')\n",
        "iso_recall = recall_score(y_val_split, iso_val_preds, average='weighted')\n",
        "iso_f1 = f1_score(y_val_split, iso_val_preds, average='weighted')\n",
        "\n",
        "print(f'Isolation Forest - Accuracy: {iso_accuracy}, Precision: {iso_precision}, Recall: {iso_recall}, F1 Score: {iso_f1}')\n"
      ]
    },
    {
      "cell_type": "code",
      "execution_count": 13,
      "metadata": {
        "colab": {
          "base_uri": "https://localhost:8080/"
        },
        "id": "tIO7w4JBL86_",
        "outputId": "be0e58df-adaa-4b31-c6f3-cc6311e739ea"
      },
      "outputs": [
        {
          "name": "stdout",
          "output_type": "stream",
          "text": [
            "Random Forest - Accuracy: 0.9984917642389363, Precision: 0.998175925657884, Recall: 0.9984917642389363, F1 Score: 0.9983153306259545\n"
          ]
        },
        {
          "name": "stderr",
          "output_type": "stream",
          "text": [
            "c:\\Users\\anany\\AppData\\Local\\Programs\\Python\\Python312\\Lib\\site-packages\\sklearn\\metrics\\_classification.py:1531: UndefinedMetricWarning: Precision is ill-defined and being set to 0.0 in labels with no predicted samples. Use `zero_division` parameter to control this behavior.\n",
            "  _warn_prf(average, modifier, f\"{metric.capitalize()} is\", len(result))\n"
          ]
        }
      ],
      "source": [
        "from sklearn.ensemble import RandomForestClassifier\n",
        "\n",
        "# Train Random Forest model\n",
        "rf = RandomForestClassifier(random_state=42)\n",
        "rf.fit(X_train_split, y_train_split)\n",
        "\n",
        "# Predict on validation data\n",
        "rf_val_preds = rf.predict(X_val_split)\n",
        "\n",
        "# Evaluate the model\n",
        "rf_accuracy = accuracy_score(y_val_split, rf_val_preds)\n",
        "rf_precision = precision_score(y_val_split, rf_val_preds, average='weighted')\n",
        "rf_recall = recall_score(y_val_split, rf_val_preds, average='weighted')\n",
        "rf_f1 = f1_score(y_val_split, rf_val_preds, average='weighted')\n",
        "\n",
        "print(f'Random Forest - Accuracy: {rf_accuracy}, Precision: {rf_precision}, Recall: {rf_recall}, F1 Score: {rf_f1}')\n"
      ]
    },
    {
      "cell_type": "markdown",
      "metadata": {
        "id": "Un-Ik0wRJAU9"
      },
      "source": [
        "# **Ensemble Model Training and Evaluation:**"
      ]
    },
    {
      "cell_type": "code",
      "execution_count": 14,
      "metadata": {
        "colab": {
          "base_uri": "https://localhost:8080/"
        },
        "id": "vGgHKi2xMD53",
        "outputId": "4debcc69-ff61-406c-8193-a3e0b8cfe429"
      },
      "outputs": [
        {
          "name": "stdout",
          "output_type": "stream",
          "text": [
            "Ensemble Model - Accuracy: 0.9113316134153602, Precision: 0.8640899658733974, Recall: 0.9113316134153602, F1 Score: 0.8855117829766441\n"
          ]
        },
        {
          "name": "stderr",
          "output_type": "stream",
          "text": [
            "c:\\Users\\anany\\AppData\\Local\\Programs\\Python\\Python312\\Lib\\site-packages\\sklearn\\linear_model\\_logistic.py:469: ConvergenceWarning: lbfgs failed to converge (status=1):\n",
            "STOP: TOTAL NO. of ITERATIONS REACHED LIMIT.\n",
            "\n",
            "Increase the number of iterations (max_iter) or scale the data as shown in:\n",
            "    https://scikit-learn.org/stable/modules/preprocessing.html\n",
            "Please also refer to the documentation for alternative solver options:\n",
            "    https://scikit-learn.org/stable/modules/linear_model.html#logistic-regression\n",
            "  n_iter_i = _check_optimize_result(\n",
            "c:\\Users\\anany\\AppData\\Local\\Programs\\Python\\Python312\\Lib\\site-packages\\sklearn\\metrics\\_classification.py:1531: UndefinedMetricWarning: Precision is ill-defined and being set to 0.0 in labels with no predicted samples. Use `zero_division` parameter to control this behavior.\n",
            "  _warn_prf(average, modifier, f\"{metric.capitalize()} is\", len(result))\n"
          ]
        }
      ],
      "source": [
        "import numpy as np\n",
        "from sklearn.linear_model import LogisticRegression\n",
        "\n",
        "# Prepare the meta features\n",
        "train_meta_features = np.column_stack((iso_forest.predict(X_train_split), rf.predict(X_train_split)))\n",
        "val_meta_features = np.column_stack((iso_forest.predict(X_val_split), rf.predict(X_val_split)))\n",
        "\n",
        "# Train the meta model\n",
        "meta_model = LogisticRegression(random_state=42)\n",
        "meta_model.fit(train_meta_features, y_train_split)\n",
        "\n",
        "# Predict on validation data using the meta model\n",
        "val_meta_preds = meta_model.predict(val_meta_features)\n",
        "\n",
        "# Evaluate the ensemble model\n",
        "ensemble_accuracy = accuracy_score(y_val_split, val_meta_preds)\n",
        "ensemble_precision = precision_score(y_val_split, val_meta_preds, average='weighted')\n",
        "ensemble_recall = recall_score(y_val_split, val_meta_preds, average='weighted')\n",
        "ensemble_f1 = f1_score(y_val_split, val_meta_preds, average='weighted')\n",
        "\n",
        "print(f'Ensemble Model - Accuracy: {ensemble_accuracy}, Precision: {ensemble_precision}, Recall: {ensemble_recall}, F1 Score: {ensemble_f1}')\n"
      ]
    },
    {
      "cell_type": "code",
      "execution_count": null,
      "metadata": {
        "colab": {
          "base_uri": "https://localhost:8080/"
        },
        "id": "hy2AelkkMFBw",
        "outputId": "a3457ecd-0110-44e3-9026-d9dc65d55040"
      },
      "outputs": [
        {
          "name": "stdout",
          "output_type": "stream",
          "text": [
            "Ensemble Model Test Set - Accuracy: 0.6878992193044713, Precision: 0.5087245624144348, Recall: 0.6878992193044713, F1 Score: 0.5795289177354543\n"
          ]
        },
        {
          "name": "stderr",
          "output_type": "stream",
          "text": [
            "/usr/local/lib/python3.10/dist-packages/sklearn/metrics/_classification.py:1344: UndefinedMetricWarning: Precision is ill-defined and being set to 0.0 in labels with no predicted samples. Use `zero_division` parameter to control this behavior.\n",
            "  _warn_prf(average, modifier, msg_start, len(result))\n"
          ]
        }
      ],
      "source": [
        "# Prepare meta features for test set\n",
        "test_meta_features = np.column_stack((iso_forest.predict(X_test), rf.predict(X_test)))\n",
        "\n",
        "# Predict on test data\n",
        "test_meta_preds = meta_model.predict(test_meta_features)\n",
        "\n",
        "# Evaluate the ensemble model on test data\n",
        "test_accuracy = accuracy_score(y_test, test_meta_preds)\n",
        "test_precision = precision_score(y_test, test_meta_preds, average='weighted')\n",
        "test_recall = recall_score(y_test, test_meta_preds, average='weighted')\n",
        "test_f1 = f1_score(y_test, test_meta_preds, average='weighted')\n",
        "\n",
        "print(f'Ensemble Model Test Set - Accuracy: {test_accuracy}, Precision: {test_precision}, Recall: {test_recall}, F1 Score: {test_f1}')\n"
      ]
    }
  ],
  "metadata": {
    "colab": {
      "provenance": []
    },
    "kernelspec": {
      "display_name": "Python 3",
      "name": "python3"
    },
    "language_info": {
      "codemirror_mode": {
        "name": "ipython",
        "version": 3
      },
      "file_extension": ".py",
      "mimetype": "text/x-python",
      "name": "python",
      "nbconvert_exporter": "python",
      "pygments_lexer": "ipython3",
      "version": "3.12.5"
    }
  },
  "nbformat": 4,
  "nbformat_minor": 0
}
